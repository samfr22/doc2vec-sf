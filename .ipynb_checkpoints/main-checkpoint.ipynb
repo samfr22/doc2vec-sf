{
 "cells": [
  {
   "cell_type": "markdown",
   "metadata": {},
   "source": [
    "# Using Custom Doc2Vec for Movie Plot Similarity"
   ]
  },
  {
   "cell_type": "code",
   "execution_count": 1,
   "metadata": {},
   "outputs": [],
   "source": [
    "from doc2vec import Doc2Vec\n",
    "from doc import Doc"
   ]
  },
  {
   "cell_type": "markdown",
   "metadata": {},
   "source": [
    "Import the dataset and clean the text from any punctuation, numbers, and make lowercase.\n",
    "As this happens, build the test and train split"
   ]
  },
  {
   "cell_type": "code",
   "execution_count": 6,
   "metadata": {},
   "outputs": [],
   "source": [
    "# Get dataset\n",
    "import csv\n",
    "import string\n",
    "\n",
    "# Taken from ntlk.corpus.stopwords(\"english\") without installing the package\n",
    "stop_words = ['i', 'me', 'my', 'myself', 'we', 'our', 'ours', 'ourselves', 'you', \"you're\", \"you've\", \"you'll\", \"you'd\", 'your', 'yours', 'yourself', 'yourselves', 'he', 'him', 'his', 'himself', 'she', \"she's\", 'her', 'hers', 'herself', 'it', \"it's\", 'its', 'itself', 'they', 'them', 'their', 'theirs', 'themselves', 'what', 'which', 'who', 'whom', 'this', 'that', \"that'll\", 'these', 'those', 'am', 'is', 'are', 'was', 'were', 'be', 'been', 'being', 'have', 'has', 'had', 'having', 'do', 'does', 'did', 'doing', 'a', 'an', 'the', 'and', 'but', 'if', 'or', 'because', 'as', 'until', 'while', 'of', 'at', 'by', 'for', 'with', 'about', 'against', 'between', 'into', 'through', 'during', 'before', 'after', 'above', 'below', 'to', 'from', 'up', 'down', 'in', 'out', 'on', 'off', 'over', 'under', 'again', 'further', 'then', 'once', 'here', 'there', 'when', 'where', 'why', 'how', 'all', 'any', 'both', 'each', 'few', 'more', 'most', 'other', 'some', 'such', 'no', 'nor', 'not', 'only', 'own', 'same', 'so', 'than', 'too', 'very', 's', 't', 'can', 'will', 'just', 'don', \"don't\", 'should', \"should've\", 'now', 'd', 'll', 'm', 'o', 're', 've', 'y', 'ain', 'aren', \"aren't\", 'couldn', \"couldn't\", 'didn', \"didn't\", 'doesn', \"doesn't\", 'hadn', \"hadn't\", 'hasn', \"hasn't\", 'haven', \"haven't\", 'isn', \"isn't\", 'ma', 'mightn', \"mightn't\", 'mustn', \"mustn't\", 'needn', \"needn't\", 'shan', \"shan't\", 'shouldn', \"shouldn't\", 'wasn', \"wasn't\", 'weren', \"weren't\", 'won', \"won't\", 'wouldn', \"wouldn't\"]\n",
    "\n",
    "def clean_text(text):\n",
    "    \"\"\"\n",
    "    Clean a document's text by removing punctuation, numbers, and making lower\n",
    "    case\n",
    "    \n",
    "    :param text: The contents of one document\n",
    "    \"\"\"\n",
    "    words = text.split()\n",
    "    cleaned = []\n",
    "    for word in words:\n",
    "        word = word.lower()\n",
    "        temp_word = []\n",
    "        for letter in word:\n",
    "            if letter not in string.punctuation and letter not in string.digits:\n",
    "                temp_word.append(letter)\n",
    "        temp_word = \"\".join(temp_word)\n",
    "        if len(temp_word) > 0 and not temp_word in stop_words:\n",
    "            cleaned.append(temp_word)\n",
    "        \n",
    "    return cleaned"
   ]
  },
  {
   "cell_type": "code",
   "execution_count": 8,
   "metadata": {},
   "outputs": [],
   "source": [
    "# possible_tags = [\"sci-fi\", \"animation\", \"action\", \"comedy\", \"fantasy\", \"romance\"]\n",
    "\n",
    "# Split set as we go, also make sure to track uncleaned versions of docs for viewing\n",
    "corpus = []\n",
    "train_docs = []\n",
    "test_docs = []\n",
    "\n",
    "with open(\"movie_plots.csv\") as file:\n",
    "    reader = csv.reader(file, delimiter = \",\", quotechar = '\"')\n",
    "    entries = 0\n",
    "    for row in reader:\n",
    "        cleaned = clean_text(row[2])\n",
    "        doc = Doc(text = cleaned, labels = [row[3]])\n",
    "        if entries < 1500:\n",
    "            train_docs.append(doc)\n",
    "        else:\n",
    "            test_docs.append(doc)\n",
    "        entries += 1"
   ]
  },
  {
   "cell_type": "code",
   "execution_count": 4,
   "metadata": {},
   "outputs": [
    {
     "name": "stdout",
     "output_type": "stream",
     "text": [
      "Vocab size is 59557\n"
     ]
    },
    {
     "name": "stderr",
     "output_type": "stream",
     "text": [
      "2022-12-16 15:53:32.108600: I tensorflow/core/platform/cpu_feature_guard.cc:193] This TensorFlow binary is optimized with oneAPI Deep Neural Network Library (oneDNN) to use the following CPU instructions in performance-critical operations:  SSE4.1 SSE4.2 AVX AVX2 FMA\n",
      "To enable them in other operations, rebuild TensorFlow with the appropriate compiler flags.\n",
      "2022-12-16 15:53:32.144286: W tensorflow/core/framework/cpu_allocator_impl.cc:82] Allocation of 71468400 exceeds 10% of free system memory.\n",
      "2022-12-16 15:53:32.166583: W tensorflow/core/framework/cpu_allocator_impl.cc:82] Allocation of 71468400 exceeds 10% of free system memory.\n",
      "2022-12-16 15:53:32.174897: W tensorflow/core/framework/cpu_allocator_impl.cc:82] Allocation of 71468400 exceeds 10% of free system memory.\n"
     ]
    }
   ],
   "source": [
    "model = Doc2Vec(train_docs)"
   ]
  },
  {
   "cell_type": "code",
   "execution_count": null,
   "metadata": {},
   "outputs": [],
   "source": []
  }
 ],
 "metadata": {
  "kernelspec": {
   "display_name": "Python [conda env:cs3907_NN] *",
   "language": "python",
   "name": "conda-env-cs3907_NN-py"
  },
  "language_info": {
   "codemirror_mode": {
    "name": "ipython",
    "version": 3
   },
   "file_extension": ".py",
   "mimetype": "text/x-python",
   "name": "python",
   "nbconvert_exporter": "python",
   "pygments_lexer": "ipython3",
   "version": "3.8.10"
  },
  "vscode": {
   "interpreter": {
    "hash": "8f7289dec51d54971fbf4142208acf0e9b624e3773a81ef6b1635e6f8d990aec"
   }
  }
 },
 "nbformat": 4,
 "nbformat_minor": 4
}
